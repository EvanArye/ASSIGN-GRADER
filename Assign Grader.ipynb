{
 "cells": [
  {
   "cell_type": "code",
   "execution_count": null,
   "metadata": {},
   "outputs": [],
   "source": [
    "def assign_grade(score):\n",
    "    if score < 0 or score > 100:\n",
    "        print(\"Invalid\")\n",
    "    elif score >= 90:\n",
    "        print (\"Grade A\")\n",
    "    elif score >= 80:\n",
    "        print (\"Grade B\" )\n",
    "    elif score >= 70:\n",
    "        print( \"Grade C\")\n",
    "    elif score >= 60:\n",
    "        print (\"Grade D\")\n",
    "    else:\n",
    "        print (\"Grade F\")\n",
    "\n",
    "\n",
    "assign_grade(score)"
   ]
  }
 ],
 "metadata": {
  "kernelspec": {
   "display_name": "Python 3 (ipykernel)",
   "language": "python",
   "name": "python3"
  },
  "language_info": {
   "codemirror_mode": {
    "name": "ipython",
    "version": 3
   },
   "file_extension": ".py",
   "mimetype": "text/x-python",
   "name": "python",
   "nbconvert_exporter": "python",
   "pygments_lexer": "ipython3",
   "version": "3.11.0"
  }
 },
 "nbformat": 4,
 "nbformat_minor": 4
}
